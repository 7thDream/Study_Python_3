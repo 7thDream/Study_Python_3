{
 "cells": [
  {
   "cell_type": "markdown",
   "metadata": {},
   "source": [
    "# K리그 순위를 읽어보자!\n",
    "\n",
    "* K리그 데이터 포털은 소스를 막아놔서 데이터를 가져올 환경이 안됨\n",
    "* 그래서 네이버 축구 순위표를 가져와 보자!"
   ]
  },
  {
   "cell_type": "code",
   "execution_count": 31,
   "metadata": {},
   "outputs": [
    {
     "name": "stdout",
     "output_type": "stream",
     "text": [
      "1위 울산\n",
      "2위 전북\n",
      "3위 서울\n",
      "4위 대구\n",
      "5위 강원\n",
      "6위 포항\n",
      "7위 상주\n",
      "8위 수원\n",
      "9위 성남\n",
      "10위 경남\n",
      "11위 제주\n",
      "12위 인천\n"
     ]
    }
   ],
   "source": [
    "import bs4\n",
    "import requests\n",
    "\n",
    "url = 'https://sports.news.naver.com/kfootball/record/index.nhn'\n",
    "response = requests.get(url)\n",
    "\n",
    "text = response.text\n",
    "html = bs4.BeautifulSoup(text, 'html.parser')\n",
    "\n",
    "tr_list = html.find('div', {'class':'tbl_box'}).find('tbody').find_all('tr')\n",
    "tr_head = html.find('div', {'class':'tbl_box'}).find('thead').find_all('tr')\n",
    "\n",
    "for tr in tr_list :\n",
    "    \n",
    "    rank = tr.find('th').find('strong').text\n",
    "    team = tr.find('td').find('span').text\n",
    "    \n",
    "    print ('{}위 {}'.format(rank, team,))"
   ]
  },
  {
   "cell_type": "code",
   "execution_count": null,
   "metadata": {},
   "outputs": [],
   "source": []
  }
 ],
 "metadata": {
  "kernelspec": {
   "display_name": "Python 3",
   "language": "python",
   "name": "python3"
  },
  "language_info": {
   "codemirror_mode": {
    "name": "ipython",
    "version": 3
   },
   "file_extension": ".py",
   "mimetype": "text/x-python",
   "name": "python",
   "nbconvert_exporter": "python",
   "pygments_lexer": "ipython3",
   "version": "3.7.3"
  }
 },
 "nbformat": 4,
 "nbformat_minor": 2
}
